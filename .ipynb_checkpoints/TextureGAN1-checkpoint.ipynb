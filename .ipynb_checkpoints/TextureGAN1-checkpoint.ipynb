{
 "cells": [
  {
   "cell_type": "code",
   "execution_count": 3,
   "id": "afe51fcd",
   "metadata": {},
   "outputs": [],
   "source": [
    "import numpy as np\n",
    "import cv2\n",
    "import torch\n",
    "import math\n",
    "import matplotlib.pyplot as plt\n",
    "import warnings\n",
    "import gradio as gr"
   ]
  },
  {
   "cell_type": "code",
   "execution_count": 30,
   "id": "dcb68774",
   "metadata": {},
   "outputs": [],
   "source": [
    "from matplotlib import pyplot as plt\n",
    "from argparser import parse_arguments\n",
    "from PIL import Image\n",
    "from main import get_transforms\n",
    "from dataloader import imfol\n",
    "from dataloader.imfol import ImageFolder, make_dataset\n",
    "from torch.utils.data.sampler import SequentialSampler\n",
    "from torch.utils.data import DataLoader\n",
    "from torch.autograd import Variable\n",
    "from utils.visualize import vis_patch, vis_image\n",
    "from models import texturegan,discriminator\n",
    "from train import gen_input, rand_between, gen_input_rand\n",
    "from ipywidgets import interact, interactive, fixed, interact_manual\n",
    "from utils import transforms as custom_transforms"
   ]
  },
  {
   "cell_type": "code",
   "execution_count": 2,
   "id": "4f9281f3",
   "metadata": {},
   "outputs": [
    {
     "name": "stdout",
     "output_type": "stream",
     "text": [
      "Collecting gradio\n",
      "  Downloading gradio-2.7.0-py3-none-any.whl (865 kB)\n",
      "Requirement already satisfied: requests in c:\\users\\asus\\anaconda3\\lib\\site-packages (from gradio) (2.26.0)\n",
      "Requirement already satisfied: paramiko in c:\\users\\asus\\anaconda3\\lib\\site-packages (from gradio) (2.7.2)\n",
      "Collecting Flask-Login\n",
      "  Downloading Flask_Login-0.5.0-py2.py3-none-any.whl (16 kB)\n",
      "Collecting markdown2\n",
      "  Downloading markdown2-2.4.2-py2.py3-none-any.whl (34 kB)\n",
      "Requirement already satisfied: Flask-Cors>=3.0.8 in c:\\users\\asus\\anaconda3\\lib\\site-packages (from gradio) (3.0.10)\n",
      "Requirement already satisfied: matplotlib in c:\\users\\asus\\anaconda3\\lib\\site-packages (from gradio) (3.4.3)\n",
      "Requirement already satisfied: numpy in c:\\users\\asus\\anaconda3\\lib\\site-packages (from gradio) (1.21.5)\n",
      "Collecting pycryptodome\n",
      "  Downloading pycryptodome-3.12.0-cp35-abi3-win_amd64.whl (1.8 MB)\n",
      "Requirement already satisfied: pandas in c:\\users\\asus\\anaconda3\\lib\\site-packages (from gradio) (1.3.4)\n",
      "Collecting analytics-python\n",
      "  Downloading analytics_python-1.4.0-py2.py3-none-any.whl (15 kB)\n",
      "Requirement already satisfied: Flask>=1.1.1 in c:\\users\\asus\\anaconda3\\lib\\site-packages (from gradio) (1.1.2)\n",
      "Requirement already satisfied: pillow in c:\\users\\asus\\anaconda3\\lib\\site-packages (from gradio) (8.4.0)\n",
      "Collecting pydub\n",
      "  Downloading pydub-0.25.1-py2.py3-none-any.whl (32 kB)\n",
      "Collecting flask-cachebuster\n",
      "  Downloading Flask-CacheBuster-1.0.0.tar.gz (3.1 kB)\n",
      "Collecting ffmpy\n",
      "  Downloading ffmpy-0.3.0.tar.gz (4.8 kB)\n",
      "Requirement already satisfied: Werkzeug>=0.15 in c:\\users\\asus\\anaconda3\\lib\\site-packages (from Flask>=1.1.1->gradio) (2.0.2)\n",
      "Requirement already satisfied: Jinja2>=2.10.1 in c:\\users\\asus\\anaconda3\\lib\\site-packages (from Flask>=1.1.1->gradio) (2.11.3)\n",
      "Requirement already satisfied: click>=5.1 in c:\\users\\asus\\anaconda3\\lib\\site-packages (from Flask>=1.1.1->gradio) (8.0.3)\n",
      "Requirement already satisfied: itsdangerous>=0.24 in c:\\users\\asus\\anaconda3\\lib\\site-packages (from Flask>=1.1.1->gradio) (2.0.1)\n",
      "Requirement already satisfied: colorama in c:\\users\\asus\\anaconda3\\lib\\site-packages (from click>=5.1->Flask>=1.1.1->gradio) (0.4.4)\n",
      "Requirement already satisfied: Six in c:\\users\\asus\\anaconda3\\lib\\site-packages (from Flask-Cors>=3.0.8->gradio) (1.16.0)\n",
      "Requirement already satisfied: MarkupSafe>=0.23 in c:\\users\\asus\\anaconda3\\lib\\site-packages (from Jinja2>=2.10.1->Flask>=1.1.1->gradio) (1.1.1)\n",
      "Requirement already satisfied: python-dateutil>2.1 in c:\\users\\asus\\anaconda3\\lib\\site-packages (from analytics-python->gradio) (2.8.2)\n",
      "Collecting monotonic>=1.5\n",
      "  Downloading monotonic-1.6-py2.py3-none-any.whl (8.2 kB)\n",
      "Collecting backoff==1.10.0\n",
      "  Downloading backoff-1.10.0-py2.py3-none-any.whl (31 kB)\n",
      "Requirement already satisfied: certifi>=2017.4.17 in c:\\users\\asus\\anaconda3\\lib\\site-packages (from requests->gradio) (2021.10.8)\n",
      "Requirement already satisfied: urllib3<1.27,>=1.21.1 in c:\\users\\asus\\anaconda3\\lib\\site-packages (from requests->gradio) (1.26.7)\n",
      "Requirement already satisfied: idna<4,>=2.5 in c:\\users\\asus\\anaconda3\\lib\\site-packages (from requests->gradio) (3.2)\n",
      "Requirement already satisfied: charset-normalizer~=2.0.0 in c:\\users\\asus\\anaconda3\\lib\\site-packages (from requests->gradio) (2.0.4)\n",
      "Requirement already satisfied: kiwisolver>=1.0.1 in c:\\users\\asus\\anaconda3\\lib\\site-packages (from matplotlib->gradio) (1.3.1)\n",
      "Requirement already satisfied: cycler>=0.10 in c:\\users\\asus\\anaconda3\\lib\\site-packages (from matplotlib->gradio) (0.10.0)\n",
      "Requirement already satisfied: pyparsing>=2.2.1 in c:\\users\\asus\\anaconda3\\lib\\site-packages (from matplotlib->gradio) (3.0.4)\n",
      "Requirement already satisfied: pytz>=2017.3 in c:\\users\\asus\\anaconda3\\lib\\site-packages (from pandas->gradio) (2021.3)\n",
      "Requirement already satisfied: pynacl>=1.0.1 in c:\\users\\asus\\anaconda3\\lib\\site-packages (from paramiko->gradio) (1.4.0)\n",
      "Requirement already satisfied: cryptography>=2.5 in c:\\users\\asus\\anaconda3\\lib\\site-packages (from paramiko->gradio) (3.4.8)\n",
      "Requirement already satisfied: bcrypt>=3.1.3 in c:\\users\\asus\\anaconda3\\lib\\site-packages (from paramiko->gradio) (3.2.0)\n",
      "Requirement already satisfied: cffi>=1.1 in c:\\users\\asus\\anaconda3\\lib\\site-packages (from bcrypt>=3.1.3->paramiko->gradio) (1.14.6)\n",
      "Requirement already satisfied: pycparser in c:\\users\\asus\\anaconda3\\lib\\site-packages (from cffi>=1.1->bcrypt>=3.1.3->paramiko->gradio) (2.20)\n",
      "Building wheels for collected packages: ffmpy, flask-cachebuster\n",
      "  Building wheel for ffmpy (setup.py): started\n",
      "  Building wheel for ffmpy (setup.py): finished with status 'done'\n",
      "  Created wheel for ffmpy: filename=ffmpy-0.3.0-py3-none-any.whl size=4710 sha256=327803375c0e200176e7963360ddae0a310e6dd0e172e8894ff8401b922c6783\n",
      "  Stored in directory: c:\\users\\asus\\appdata\\local\\pip\\cache\\wheels\\91\\e2\\96\\f676aa08bfd789328c6576cd0f1fde4a3d686703bb0c247697\n",
      "  Building wheel for flask-cachebuster (setup.py): started\n",
      "  Building wheel for flask-cachebuster (setup.py): finished with status 'done'\n",
      "  Created wheel for flask-cachebuster: filename=Flask_CacheBuster-1.0.0-py3-none-any.whl size=3371 sha256=8654fde97b3aee0dd0161deaf64db24c4f32121f1d0eb41c542348f951cd5735\n",
      "  Stored in directory: c:\\users\\asus\\appdata\\local\\pip\\cache\\wheels\\40\\0b\\05\\607940155598cf002272cafb7c7616cdecfc458dbf4f9a5676\n",
      "Successfully built ffmpy flask-cachebuster\n",
      "Installing collected packages: monotonic, backoff, pydub, pycryptodome, markdown2, Flask-Login, flask-cachebuster, ffmpy, analytics-python, gradio\n",
      "Successfully installed Flask-Login-0.5.0 analytics-python-1.4.0 backoff-1.10.0 ffmpy-0.3.0 flask-cachebuster-1.0.0 gradio-2.7.0 markdown2-2.4.2 monotonic-1.6 pycryptodome-3.12.0 pydub-0.25.1\n"
     ]
    }
   ],
   "source": [
    "!pip install gradio"
   ]
  },
  {
   "cell_type": "code",
   "execution_count": 31,
   "id": "58501ea8",
   "metadata": {},
   "outputs": [],
   "source": [
    "def pil_loader(path):\n",
    "    # open path as file to avoid ResourceWarning (https://github.com/python-pillow/Pillow/issues/835)\n",
    "    with open(path, 'rb') as f:\n",
    "        with Image.open(f) as img:\n",
    "            return img.convert('RGB')"
   ]
  },
  {
   "cell_type": "code",
   "execution_count": 5,
   "id": "2cf13bac",
   "metadata": {},
   "outputs": [
    {
     "ename": "NameError",
     "evalue": "name 'load_network' is not defined",
     "output_type": "error",
     "traceback": [
      "\u001b[1;31m---------------------------------------------------------------------------\u001b[0m",
      "\u001b[1;31mNameError\u001b[0m                                 Traceback (most recent call last)",
      "\u001b[1;32m<ipython-input-5-f4e9e946b672>\u001b[0m in \u001b[0;36m<module>\u001b[1;34m\u001b[0m\n\u001b[0;32m     11\u001b[0m \u001b[0mmodel_location\u001b[0m \u001b[1;33m=\u001b[0m \u001b[1;34m'trained_model/final_cloth_finetune.pth'\u001b[0m\u001b[1;33m\u001b[0m\u001b[1;33m\u001b[0m\u001b[0m\n\u001b[0;32m     12\u001b[0m \u001b[0mnetG\u001b[0m \u001b[1;33m=\u001b[0m \u001b[0mtexturegan\u001b[0m\u001b[1;33m.\u001b[0m\u001b[0mTextureGAN\u001b[0m\u001b[1;33m(\u001b[0m\u001b[1;36m5\u001b[0m\u001b[1;33m,\u001b[0m \u001b[1;36m3\u001b[0m\u001b[1;33m,\u001b[0m \u001b[1;36m32\u001b[0m\u001b[1;33m)\u001b[0m\u001b[1;33m\u001b[0m\u001b[1;33m\u001b[0m\u001b[0m\n\u001b[1;32m---> 13\u001b[1;33m \u001b[0mload_network\u001b[0m\u001b[1;33m(\u001b[0m\u001b[0mnetG\u001b[0m\u001b[1;33m,\u001b[0m \u001b[0mmodel_location\u001b[0m\u001b[1;33m)\u001b[0m\u001b[1;33m\u001b[0m\u001b[1;33m\u001b[0m\u001b[0m\n\u001b[0m\u001b[0;32m     14\u001b[0m \u001b[1;33m\u001b[0m\u001b[0m\n\u001b[0;32m     15\u001b[0m \u001b[0mimg_path\u001b[0m \u001b[1;33m=\u001b[0m \u001b[1;34m\"data/blank.jpg\"\u001b[0m\u001b[1;33m\u001b[0m\u001b[1;33m\u001b[0m\u001b[0m\n",
      "\u001b[1;31mNameError\u001b[0m: name 'load_network' is not defined"
     ]
    }
   ],
   "source": []
  },
  {
   "cell_type": "code",
   "execution_count": 33,
   "id": "968831b1",
   "metadata": {},
   "outputs": [],
   "source": [
    "#defaulty used\n",
    "\n",
    "def convertToStandard(input_img, texture):\n",
    "#convert input sketch to canny \n",
    "#path should be changed here\n",
    "#     input_img = cv2.imread(\"data/78.jpeg\") #path to cloth folder\n",
    "    #plt.imshow(input_img)\n",
    "    command = '--display_port 7770 --load 0 --load_D -1 --load_epoch 105 --gpu 2 --model texturegan --feature_weight 1e2 --pixel_weight_ab 1e3 --global_pixel_weight_l 1e3 --local_pixel_weight_l 0 --style_weight 0 --discriminator_weight 1e3 --discriminator_local_weight 1e6  --learning_rate 1e-4 --learning_rate_D 1e-4 --batch_size 36 --save_every 50 --num_epoch 100000 --save_dir /hdd/2017IS013/researchGroup03/Pytorch_ARGAN/data/train_txt --load_dir /hdd/2017IS013/researchGroup03/Pytorch_ARGAN/data/train_txt --data_path /hdd/2017IS013/researchGroup03/Pytorch_ARGAN/data/ --learning_rate_D_local  1e-4 --local_texture_size 50 --patch_size_min 20 --patch_size_max 40 --num_input_texture_patch 1 --visualize_every 5 --num_local_texture_patch 1'\n",
    "    args = parse_arguments(command.split())\n",
    "    \n",
    "    args.batch_size = 1\n",
    "    args.image_size =152\n",
    "    args.resize_max = 256\n",
    "    args.resize_min = 256\n",
    "    \n",
    "    transform = get_transforms(args)\n",
    "# args.data_path = '/hdd/2017IS013/researchGroup03/Pytorch_ARGAN/data/' #change to your data path\n",
    "    img_path = \"data/blank.jpg\"\n",
    "    \n",
    "    gray = cv2.cvtColor(input_img, cv2.COLOR_BGR2GRAY)\n",
    "    edges = cv2.Canny(gray,100,200)\n",
    "    ret,th2 = cv2.threshold(edges,100,255,cv2.THRESH_BINARY_INV)\n",
    "    sketch_image = \"data/sketchmyfrock6.jpg\"  #path to save sketches images\n",
    "    cv2.imwrite(sketch_image, th2)\n",
    "    \n",
    "    skg_path = sketch_image\n",
    "    img = cv2.imread(skg_path)\n",
    "    gray = cv2.cvtColor(img, cv2.COLOR_BGR2GRAY)\n",
    "    thresh = cv2.threshold(gray, np.mean(gray), 255, cv2.THRESH_BINARY_INV+cv2.THRESH_OTSU)[1]\n",
    "    edges = cv2.dilate(cv2.Canny(thresh,0,255), None)\n",
    "    cnt = sorted(cv2.findContours(edges, cv2.RETR_LIST, cv2.CHAIN_APPROX_SIMPLE)[-2], key=cv2.contourArea)[-1]\n",
    "    \n",
    "    masked = []\n",
    "    segmented = []\n",
    "\n",
    "    mask = np.zeros((256,256), np.uint8)\n",
    "    masked.append(cv2.drawContours(mask, [cnt], -1, 255, -1))\n",
    "\n",
    "    dst = cv2.bitwise_and(img, img, mask=mask)\n",
    "    segmented = cv2.cvtColor(dst, cv2.COLOR_BGR2RGB)\n",
    "\n",
    "    filename = \"data/seg.jpg\"\n",
    "    cv2.imwrite(filename, mask)\n",
    "    \n",
    "    seg_path = filename\n",
    "    eroded_seg_path = filename\n",
    "    \n",
    "    txt_path = \"data/texture.jpg\"\n",
    "    cv2.imwrite(txt_path,texture)\n",
    "\n",
    "    img = pil_loader(img_path)\n",
    "    skg = pil_loader(skg_path)\n",
    "    seg = pil_loader(seg_path)\n",
    "    txt = pil_loader(txt_path)\n",
    "    eroded_seg = pil_loader(eroded_seg_path)\n",
    "    img, skg, seg, eroded_seg, txt = transform([img, skg, seg, eroded_seg, txt])\n",
    "    img = img.unsqueeze(0)\n",
    "    skg = skg.unsqueeze(0)\n",
    "    txt = txt.unsqueeze(0)\n",
    "    seg = seg.unsqueeze(0)\n",
    "    eroded_seg = eroded_seg.unsqueeze(0)\n",
    "    data = [img, skg, seg, eroded_seg, txt]\n",
    "    \n",
    "    return data"
   ]
  },
  {
   "cell_type": "code",
   "execution_count": 13,
   "id": "942e6167",
   "metadata": {},
   "outputs": [],
   "source": [
    "# skg_path = sketch_image\n",
    "# img = cv2.imread(skg_path)\n",
    "# gray = cv2.cvtColor(img, cv2.COLOR_BGR2GRAY)\n",
    "# thresh = cv2.threshold(gray, np.mean(gray), 255, cv2.THRESH_BINARY_INV+cv2.THRESH_OTSU)[1]\n",
    "# edges = cv2.dilate(cv2.Canny(thresh,0,255), None)\n",
    "# cnt = sorted(cv2.findContours(edges, cv2.RETR_LIST, cv2.CHAIN_APPROX_SIMPLE)[-2], key=cv2.contourArea)[-1]\n"
   ]
  },
  {
   "cell_type": "code",
   "execution_count": 14,
   "id": "558ec56d",
   "metadata": {},
   "outputs": [
    {
     "data": {
      "text/plain": [
       "True"
      ]
     },
     "execution_count": 14,
     "metadata": {},
     "output_type": "execute_result"
    }
   ],
   "source": []
  },
  {
   "cell_type": "code",
   "execution_count": 15,
   "id": "b76ff579",
   "metadata": {},
   "outputs": [],
   "source": []
  },
  {
   "cell_type": "code",
   "execution_count": 16,
   "id": "770e0c39",
   "metadata": {},
   "outputs": [
    {
     "name": "stderr",
     "output_type": "stream",
     "text": [
      "C:\\Users\\Asangika\\anaconda3\\lib\\site-packages\\torchvision\\transforms\\transforms.py:310: UserWarning: The use of the transforms.Scale transform is deprecated, please use transforms.Resize instead.\n",
      "  warnings.warn(\"The use of the transforms.Scale transform is deprecated, \" +\n"
     ]
    }
   ],
   "source": []
  },
  {
   "cell_type": "code",
   "execution_count": 34,
   "id": "dd5356ce",
   "metadata": {},
   "outputs": [],
   "source": [
    "def load_network(model, save_path):\n",
    "        \n",
    "    model_state = torch.load(save_path)\n",
    "    \n",
    "    if \"state_dict\" in model_state:\n",
    "        model.load_state_dict(model_state[\"state_dict\"])\n",
    "    else:\n",
    "        model.load_state_dict(model_state)\n",
    "\n",
    "        model_state = {\n",
    "            'state_dict': model.cpu().state_dict(),\n",
    "            'epoch': epoch,\n",
    "            'iteration': iteration,\n",
    "            'model': args.model,\n",
    "            'color_space': args.color_space,\n",
    "            'batch_size': args.batch_size,\n",
    "            'dataset': dataset,\n",
    "            'image_size': args.image_size\n",
    "        }\n",
    "    \n",
    "    model.cpu()\n"
   ]
  },
  {
   "cell_type": "code",
   "execution_count": 19,
   "id": "0acaca0e",
   "metadata": {},
   "outputs": [],
   "source": []
  },
  {
   "cell_type": "code",
   "execution_count": 35,
   "id": "e7c30dea",
   "metadata": {},
   "outputs": [],
   "source": [
    "def get_input(val_loader,xcenter,ycenter,patch_size,num_patch):\n",
    "    img, skg, seg, eroded_seg, txt = val_loader\n",
    "    img = custom_transforms.normalize_lab(img)\n",
    "    skg = custom_transforms.normalize_lab(skg)\n",
    "    txt = custom_transforms.normalize_lab(txt)\n",
    "    seg = custom_transforms.normalize_seg(seg)\n",
    "    eroded_seg = custom_transforms.normalize_seg(eroded_seg)\n",
    "\n",
    "    bs, w, h = seg.size()\n",
    "\n",
    "    seg = seg.view(bs, 1, w, h)\n",
    "    seg = torch.cat((seg, seg, seg), 1)\n",
    "\n",
    "    eroded_seg = eroded_seg.view(bs, 1, w, h)\n",
    "    eroded_seg = torch.cat((eroded_seg, eroded_seg, eroded_seg), 1)\n",
    "\n",
    "    temp = torch.ones(seg.size()) * (1 - seg).float()\n",
    "    temp[:, 1, :, :] = 0  # torch.ones(seg[:,1,:,:].size())*(1-seg[:,1,:,:]).float()\n",
    "    temp[:, 2, :, :] = 0  # torch.ones(seg[:,2,:,:].size())*(1-seg[:,2,:,:]).float()\n",
    "\n",
    "    txt = txt.float() * seg.float() + temp\n",
    "\n",
    "    patchsize = args.local_texture_size\n",
    "    batch_size = bs\n",
    "    if xcenter < 0 or ycenter < 0:\n",
    "        inp, texture_loc = gen_input_rand(txt, skg, eroded_seg[:, 0, :, :] * 100,\n",
    "                                              patch_size, patch_size,\n",
    "                                              num_patch)\n",
    "    else:\n",
    "        inp, texture_loc = gen_input_exact(txt, skg, eroded_seg[:, 0, :, :] * 100,xcenter,ycenter,patch_size,1)\n",
    "        \n",
    "    return inp,texture_loc \n",
    "\n",
    "def get_inputv(inp):\n",
    "    input_stack = torch.FloatTensor().cpu()\n",
    "    input_stack.resize_as_(inp.float()).copy_(inp)\n",
    "    inputv = Variable(input_stack)\n",
    "    return inputv"
   ]
  },
  {
   "cell_type": "code",
   "execution_count": 36,
   "id": "77cb1d00",
   "metadata": {},
   "outputs": [],
   "source": [
    "def output(sketch, texture):\n",
    "    \n",
    "    color_space = 'lab'\n",
    "\n",
    "    #data = valLoader.__iter__().__next__()\n",
    "#     input_img1 = cv2.imread(\"data/78.jpeg\")\n",
    "#     input_img2 = cv2.imread(\"data/sea.jpeg\")\n",
    "    \n",
    "    data = convertToStandard(sketch, texture)\n",
    "    img, skg, seg, eroded_seg, txt = data\n",
    "\n",
    "    img = custom_transforms.normalize_lab(img)\n",
    "    skg = custom_transforms.normalize_lab(skg)\n",
    "    txt = custom_transforms.normalize_lab(txt)\n",
    "    seg = custom_transforms.normalize_seg(seg)\n",
    "    eroded_seg = custom_transforms.normalize_seg(eroded_seg)\n",
    "    inp,texture_loc = get_input(data,-1,-1,30,1)\n",
    "\n",
    "    seg = seg!=0\n",
    "    \n",
    "    model_location = 'trained_model/final_cloth_finetune.pth'\n",
    "\n",
    "    netG = texturegan.TextureGAN(5, 3, 32)\n",
    "    load_network(netG, model_location)\n",
    "    netG.eval()\n",
    "    \n",
    "    model = netG\n",
    "\n",
    "    inpv = get_inputv(inp.cpu())\n",
    "    output = model(inpv.cpu())\n",
    "\n",
    "    out_img = vis_image(custom_transforms.denormalize_lab(output.data.double().cpu()),\n",
    "                                        color_space)\n",
    "    inp_img = vis_patch(custom_transforms.denormalize_lab(txt.cpu()),\n",
    "                                custom_transforms.denormalize_lab(skg.cpu()),\n",
    "                                texture_loc,\n",
    "                                color_space)\n",
    "    tar_img = vis_image(custom_transforms.denormalize_lab(img.cpu()),\n",
    "                            color_space)\n",
    "\n",
    "#     plt.figure()\n",
    "#     plt.imshow(np.transpose(inp_img[0],(1, 2, 0)))\n",
    "#     plt.axis('off')\n",
    "    #plt.figure()  \n",
    "#     plt.figure()\n",
    "#     plt.imshow(np.transpose(out_img[0],(1, 2, 0)))\n",
    "#     plt.axis('off')\n",
    "    return np.transpose(out_img[0],(1, 2, 0))"
   ]
  },
  {
   "cell_type": "code",
   "execution_count": 24,
   "id": "448d91f6",
   "metadata": {},
   "outputs": [
    {
     "name": "stderr",
     "output_type": "stream",
     "text": [
      "C:\\Users\\Asangika\\anaconda3\\lib\\site-packages\\skimage\\color\\colorconv.py:1109: UserWarning: Color data out of range: Z < 0 in 1 pixels\n",
      "  return xyz2rgb(lab2xyz(lab, illuminant, observer))\n"
     ]
    },
    {
     "data": {
      "image/png": "[encoded data removed]",
      "text/plain": [
       "<Figure size 432x288 with 1 Axes>"
      ]
     },
     "metadata": {
      "needs_background": "light"
     },
     "output_type": "display_data"
    }
   ],
   "source": [
    "# output(sketch, texture)"
   ]
  },
  {
   "cell_type": "code",
   "execution_count": null,
   "id": "7740e46b",
   "metadata": {},
   "outputs": [
    {
     "name": "stdout",
     "output_type": "stream",
     "text": [
      "Running on local URL:  http://127.0.0.1:7861/\n",
      "Running on public URL: https://27641.gradio.app\n",
      "\n",
      "This share link expires in 72 hours. For free permanent hosting, check out Spaces (https://huggingface.co/spaces)\n"
     ]
    },
    {
     "data": {
      "text/html": [
       "\n",
       "        <iframe\n",
       "            width=\"900\"\n",
       "            height=\"500\"\n",
       "            src=\"https://27641.gradio.app\"\n",
       "            frameborder=\"0\"\n",
       "            allowfullscreen\n",
       "        ></iframe>\n",
       "        "
      ],
      "text/plain": [
       "<IPython.lib.display.IFrame at 0x237c4ea8d90>"
      ]
     },
     "metadata": {},
     "output_type": "display_data"
    },
    {
     "name": "stderr",
     "output_type": "stream",
     "text": [
      "C:\\Users\\Asangika\\anaconda3\\lib\\site-packages\\torchvision\\transforms\\transforms.py:310: UserWarning: The use of the transforms.Scale transform is deprecated, please use transforms.Resize instead.\n",
      "  warnings.warn(\"The use of the transforms.Scale transform is deprecated, \" +\n",
      "C:\\Users\\Asangika\\anaconda3\\lib\\site-packages\\torch\\nn\\functional.py:3609: UserWarning: Default upsampling behavior when mode=bilinear is changed to align_corners=False since 0.4.0. Please specify align_corners=True if the old behavior is desired. See the documentation of nn.Upsample for details.\n",
      "  warnings.warn(\n",
      "C:\\Users\\Asangika\\anaconda3\\lib\\site-packages\\skimage\\color\\colorconv.py:1109: UserWarning: Color data out of range: Z < 0 in 70 pixels\n",
      "  return xyz2rgb(lab2xyz(lab, illuminant, observer))\n"
     ]
    }
   ],
   "source": [
    "sketch = gr.inputs.Image()\n",
    "texture = gr.inputs.Image()\n",
    "\n",
    "iface = gr.Interface(fn=output, inputs=[sketch, texture], outputs=\"image\")\n",
    "iface.launch(debug=True, share=True)"
   ]
  },
  {
   "cell_type": "code",
   "execution_count": null,
   "id": "7d263295",
   "metadata": {},
   "outputs": [],
   "source": []
  }
 ],
 "metadata": {
  "kernelspec": {
   "display_name": "Python 3 (ipykernel)",
   "language": "python",
   "name": "python3"
  },
  "language_info": {
   "codemirror_mode": {
    "name": "ipython",
    "version": 3
   },
   "file_extension": ".py",
   "mimetype": "text/x-python",
   "name": "python",
   "nbconvert_exporter": "python",
   "pygments_lexer": "ipython3",
   "version": "3.9.7"
  }
 },
 "nbformat": 4,
 "nbformat_minor": 5
}
