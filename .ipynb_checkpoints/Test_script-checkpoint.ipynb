{
 "cells": [
  {
   "cell_type": "markdown",
   "metadata": {
    "id": "emFm551cnVlj"
   },
   "source": [
    "An example script for using texturegan model"
   ]
  },
  {
   "cell_type": "code",
   "execution_count": 45,
   "metadata": {
    "colab": {
     "base_uri": "https://localhost:8080/"
    },
    "executionInfo": {
     "elapsed": 3839,
     "status": "ok",
     "timestamp": 1641842470435,
     "user": {
      "displayName": "research arucsc",
      "photoUrl": "https://lh3.googleusercontent.com/a/default-user=s64",
      "userId": "12554019932748390963"
     },
     "user_tz": -330
    },
    "id": "QixoLCE2nygY",
    "outputId": "bc6a6bd9-5833-49c8-dce7-1226d90db1ff"
   },
   "outputs": [],
   "source": [
    "# from google.colab import drive\n",
    "# drive.mount('/content/drive')"
   ]
  },
  {
   "cell_type": "code",
   "execution_count": 46,
   "metadata": {
    "colab": {
     "base_uri": "https://localhost:8080/"
    },
    "executionInfo": {
     "elapsed": 11,
     "status": "ok",
     "timestamp": 1641842470436,
     "user": {
      "displayName": "research arucsc",
      "photoUrl": "https://lh3.googleusercontent.com/a/default-user=s64",
      "userId": "12554019932748390963"
     },
     "user_tz": -330
    },
    "id": "qbZhh6cbn6Ef",
    "outputId": "63bd0477-24e2-44d4-f938-fa9c91aa5057"
   },
   "outputs": [
    {
     "name": "stdout",
     "output_type": "stream",
     "text": [
      "[WinError 3] The system cannot find the path specified: '/content/drive/MyDrive/OurGAN/'\n",
      "C:\\Users\\ASUS\\Desktop\\OurGAN\n"
     ]
    }
   ],
   "source": [
    "%cd /content/drive/MyDrive/OurGAN/"
   ]
  },
  {
   "cell_type": "code",
   "execution_count": 47,
   "metadata": {
    "colab": {
     "base_uri": "https://localhost:8080/"
    },
    "executionInfo": {
     "elapsed": 8,
     "status": "ok",
     "timestamp": 1641842470436,
     "user": {
      "displayName": "research arucsc",
      "photoUrl": "https://lh3.googleusercontent.com/a/default-user=s64",
      "userId": "12554019932748390963"
     },
     "user_tz": -330
    },
    "id": "gSRuOfpBoIYH",
    "outputId": "20d2ee11-8ae7-4b4c-89ff-8ef79afd4536"
   },
   "outputs": [],
   "source": [
    "#!ls"
   ]
  },
  {
   "cell_type": "code",
   "execution_count": 48,
   "metadata": {
    "colab": {
     "base_uri": "https://localhost:8080/"
    },
    "executionInfo": {
     "elapsed": 3238,
     "status": "ok",
     "timestamp": 1641842473670,
     "user": {
      "displayName": "research arucsc",
      "photoUrl": "https://lh3.googleusercontent.com/a/default-user=s64",
      "userId": "12554019932748390963"
     },
     "user_tz": -330
    },
    "id": "L3xLWvufoSJg",
    "outputId": "f7e55d93-97de-4c4b-b7c2-3a3618c34730"
   },
   "outputs": [
    {
     "name": "stdout",
     "output_type": "stream",
     "text": [
      "Requirement already satisfied: visdom in c:\\users\\asus\\anaconda3\\lib\\site-packages (0.1.8.9)\n",
      "Requirement already satisfied: numpy>=1.8 in c:\\users\\asus\\anaconda3\\lib\\site-packages (from visdom) (1.21.5)\n",
      "Requirement already satisfied: six in c:\\users\\asus\\anaconda3\\lib\\site-packages (from visdom) (1.16.0)\n",
      "Requirement already satisfied: pyzmq in c:\\users\\asus\\anaconda3\\lib\\site-packages (from visdom) (22.2.1)\n",
      "Requirement already satisfied: scipy in c:\\users\\asus\\anaconda3\\lib\\site-packages (from visdom) (1.7.1)\n",
      "Requirement already satisfied: tornado in c:\\users\\asus\\anaconda3\\lib\\site-packages (from visdom) (6.1)\n",
      "Requirement already satisfied: jsonpatch in c:\\users\\asus\\anaconda3\\lib\\site-packages (from visdom) (1.32)\n",
      "Requirement already satisfied: requests in c:\\users\\asus\\anaconda3\\lib\\site-packages (from visdom) (2.26.0)\n",
      "Requirement already satisfied: pillow in c:\\users\\asus\\anaconda3\\lib\\site-packages (from visdom) (8.4.0)\n",
      "Requirement already satisfied: websocket-client in c:\\users\\asus\\anaconda3\\lib\\site-packages (from visdom) (1.2.3)\n",
      "Requirement already satisfied: torchfile in c:\\users\\asus\\anaconda3\\lib\\site-packages (from visdom) (0.1.0)\n",
      "Requirement already satisfied: jsonpointer>=1.9 in c:\\users\\asus\\anaconda3\\lib\\site-packages (from jsonpatch->visdom) (2.2)\n",
      "Requirement already satisfied: idna<4,>=2.5 in c:\\users\\asus\\anaconda3\\lib\\site-packages (from requests->visdom) (3.2)\n",
      "Requirement already satisfied: charset-normalizer~=2.0.0 in c:\\users\\asus\\anaconda3\\lib\\site-packages (from requests->visdom) (2.0.4)\n",
      "Requirement already satisfied: urllib3<1.27,>=1.21.1 in c:\\users\\asus\\anaconda3\\lib\\site-packages (from requests->visdom) (1.26.7)\n",
      "Requirement already satisfied: certifi>=2017.4.17 in c:\\users\\asus\\anaconda3\\lib\\site-packages (from requests->visdom) (2021.10.8)\n"
     ]
    }
   ],
   "source": [
    "!pip install visdom"
   ]
  },
  {
   "cell_type": "code",
   "execution_count": 49,
   "metadata": {
    "colab": {
     "base_uri": "https://localhost:8080/"
    },
    "executionInfo": {
     "elapsed": 3239,
     "status": "ok",
     "timestamp": 1641842476906,
     "user": {
      "displayName": "research arucsc",
      "photoUrl": "https://lh3.googleusercontent.com/a/default-user=s64",
      "userId": "12554019932748390963"
     },
     "user_tz": -330
    },
    "id": "SkAM2XHFoajw",
    "outputId": "2a1eadfb-910e-4b27-d6b2-4dc11d4dfd16"
   },
   "outputs": [],
   "source": [
    "#!pip install --trusted-host pypi.org --trusted-host files.pythonhosted.org torch==0.4.1.post2 torchvision==0.2.1 -f https://download.pytorch.org/whl/torch_stable.html"
   ]
  },
  {
   "cell_type": "code",
   "execution_count": 50,
   "metadata": {
    "executionInfo": {
     "elapsed": 14,
     "status": "ok",
     "timestamp": 1641842476907,
     "user": {
      "displayName": "research arucsc",
      "photoUrl": "https://lh3.googleusercontent.com/a/default-user=s64",
      "userId": "12554019932748390963"
     },
     "user_tz": -330
    },
    "id": "J3bsgr5qrJYa"
   },
   "outputs": [],
   "source": [
    "#!pip install numpy==1.15.0"
   ]
  },
  {
   "cell_type": "code",
   "execution_count": 51,
   "metadata": {
    "executionInfo": {
     "elapsed": 14,
     "status": "ok",
     "timestamp": 1641842476907,
     "user": {
      "displayName": "research arucsc",
      "photoUrl": "https://lh3.googleusercontent.com/a/default-user=s64",
      "userId": "12554019932748390963"
     },
     "user_tz": -330
    },
    "id": "t-9eioYswW2b"
   },
   "outputs": [],
   "source": [
    "import numpy as np"
   ]
  },
  {
   "cell_type": "code",
   "execution_count": 52,
   "metadata": {
    "executionInfo": {
     "elapsed": 13,
     "status": "ok",
     "timestamp": 1641842476907,
     "user": {
      "displayName": "research arucsc",
      "photoUrl": "https://lh3.googleusercontent.com/a/default-user=s64",
      "userId": "12554019932748390963"
     },
     "user_tz": -330
    },
    "id": "8Dm0zDu-QJ72"
   },
   "outputs": [],
   "source": [
    "import cv2\n",
    "#import numpy as np\n",
    "from matplotlib import pyplot as plt"
   ]
  },
  {
   "cell_type": "code",
   "execution_count": 53,
   "metadata": {
    "colab": {
     "base_uri": "https://localhost:8080/",
     "height": 35
    },
    "executionInfo": {
     "elapsed": 13,
     "status": "ok",
     "timestamp": 1641842476907,
     "user": {
      "displayName": "research arucsc",
      "photoUrl": "https://lh3.googleusercontent.com/a/default-user=s64",
      "userId": "12554019932748390963"
     },
     "user_tz": -330
    },
    "id": "gCzhvW6NwYqD",
    "outputId": "f1c198fb-ac8c-45d3-f364-a1396c61e3d0"
   },
   "outputs": [
    {
     "data": {
      "text/plain": [
       "'1.21.5'"
      ]
     },
     "execution_count": 53,
     "metadata": {},
     "output_type": "execute_result"
    }
   ],
   "source": [
    "np.version.version"
   ]
  },
  {
   "cell_type": "code",
   "execution_count": 54,
   "metadata": {
    "executionInfo": {
     "elapsed": 6,
     "status": "ok",
     "timestamp": 1641842476908,
     "user": {
      "displayName": "research arucsc",
      "photoUrl": "https://lh3.googleusercontent.com/a/default-user=s64",
      "userId": "12554019932748390963"
     },
     "user_tz": -330
    },
    "id": "UZND1AHAnVlm"
   },
   "outputs": [],
   "source": [
    "from argparser import parse_arguments"
   ]
  },
  {
   "cell_type": "code",
   "execution_count": 55,
   "metadata": {
    "executionInfo": {
     "elapsed": 6,
     "status": "ok",
     "timestamp": 1641842476908,
     "user": {
      "displayName": "research arucsc",
      "photoUrl": "https://lh3.googleusercontent.com/a/default-user=s64",
      "userId": "12554019932748390963"
     },
     "user_tz": -330
    },
    "id": "7KJqAOBanVlm"
   },
   "outputs": [],
   "source": [
    "from PIL import Image"
   ]
  },
  {
   "cell_type": "code",
   "execution_count": 56,
   "metadata": {
    "executionInfo": {
     "elapsed": 6,
     "status": "ok",
     "timestamp": 1641842476908,
     "user": {
      "displayName": "research arucsc",
      "photoUrl": "https://lh3.googleusercontent.com/a/default-user=s64",
      "userId": "12554019932748390963"
     },
     "user_tz": -330
    },
    "id": "hsU5KzYInVln"
   },
   "outputs": [],
   "source": [
    "def pil_loader(path):\n",
    "    # open path as file to avoid ResourceWarning (https://github.com/python-pillow/Pillow/issues/835)\n",
    "    with open(path, 'rb') as f:\n",
    "        with Image.open(f) as img:\n",
    "            return img.convert('RGB')"
   ]
  },
  {
   "cell_type": "code",
   "execution_count": 57,
   "metadata": {
    "executionInfo": {
     "elapsed": 6,
     "status": "ok",
     "timestamp": 1641842476908,
     "user": {
      "displayName": "research arucsc",
      "photoUrl": "https://lh3.googleusercontent.com/a/default-user=s64",
      "userId": "12554019932748390963"
     },
     "user_tz": -330
    },
    "id": "PT7dZZIKnVln"
   },
   "outputs": [],
   "source": [
    "#dummy command\n",
    "command = '--display_port 7770 --load 0 --load_D -1 --load_epoch 105 --gpu 2 --model texturegan --feature_weight 1e2 --pixel_weight_ab 1e3 --global_pixel_weight_l 1e3 --local_pixel_weight_l 0 --style_weight 0 --discriminator_weight 1e3 --discriminator_local_weight 1e6  --learning_rate 1e-4 --learning_rate_D 1e-4 --batch_size 36 --save_every 50 --num_epoch 100000 --save_dir /hdd/2017IS013/researchGroup03/Pytorch_ARGAN/data/train_txt --load_dir /hdd/2017IS013/researchGroup03/Pytorch_ARGAN/data/train_txt --data_path /hdd/2017IS013/researchGroup03/Pytorch_ARGAN/data/ --learning_rate_D_local  1e-4 --local_texture_size 50 --patch_size_min 20 --patch_size_max 40 --num_input_texture_patch 1 --visualize_every 5 --num_local_texture_patch 1'\n",
    "args = parse_arguments(command.split())\n"
   ]
  },
  {
   "cell_type": "code",
   "execution_count": 58,
   "metadata": {
    "executionInfo": {
     "elapsed": 932,
     "status": "ok",
     "timestamp": 1641842477834,
     "user": {
      "displayName": "research arucsc",
      "photoUrl": "https://lh3.googleusercontent.com/a/default-user=s64",
      "userId": "12554019932748390963"
     },
     "user_tz": -330
    },
    "id": "GpJKddwknVlo"
   },
   "outputs": [],
   "source": [
    "from main import get_transforms\n",
    "from dataloader import imfol\n",
    "from dataloader.imfol import ImageFolder, make_dataset\n",
    "import torch\n",
    "from torch.utils.data.sampler import SequentialSampler\n",
    "from torch.utils.data import DataLoader\n",
    "import math\n",
    "from torch.autograd import Variable\n",
    "from utils.visualize import vis_patch, vis_image"
   ]
  },
  {
   "cell_type": "markdown",
   "metadata": {
    "id": "n1xGLNAEnVlp"
   },
   "source": [
    "## Load from validation folder"
   ]
  },
  {
   "cell_type": "code",
   "execution_count": 59,
   "metadata": {
    "executionInfo": {
     "elapsed": 19,
     "status": "ok",
     "timestamp": 1641842477834,
     "user": {
      "displayName": "research arucsc",
      "photoUrl": "https://lh3.googleusercontent.com/a/default-user=s64",
      "userId": "12554019932748390963"
     },
     "user_tz": -330
    },
    "id": "UGNmMGaMnVlp"
   },
   "outputs": [],
   "source": [
    "args.batch_size = 1\n",
    "args.image_size =152\n",
    "args.resize_max = 256\n",
    "args.resize_min = 256\n",
    "args.data_path = '/hdd/2017IS013/researchGroup03/Pytorch_ARGAN/data/' #change to your data path"
   ]
  },
  {
   "cell_type": "code",
   "execution_count": 60,
   "metadata": {
    "executionInfo": {
     "elapsed": 19,
     "status": "ok",
     "timestamp": 1641842477835,
     "user": {
      "displayName": "research arucsc",
      "photoUrl": "https://lh3.googleusercontent.com/a/default-user=s64",
      "userId": "12554019932748390963"
     },
     "user_tz": -330
    },
    "id": "nLIEx-x6nVlp"
   },
   "outputs": [],
   "source": [
    "transform = get_transforms(args)"
   ]
  },
  {
   "cell_type": "code",
   "execution_count": 61,
   "metadata": {},
   "outputs": [],
   "source": [
    "#defaulty used\n",
    "img_path = \"C:/Users/ASUS/Desktop/OurGAN/data/blank.jpg\""
   ]
  },
  {
   "cell_type": "code",
   "execution_count": 62,
   "metadata": {},
   "outputs": [],
   "source": [
    "#convert input sketch to canny \n",
    "#path should be changed here\n",
    "input_img = cv2.imread(\"C:/Users/ASUS/Desktop/OurGAN/data/78.jpeg\") #path to cloth folder\n",
    "#plt.imshow(input_img)"
   ]
  },
  {
   "cell_type": "code",
   "execution_count": 63,
   "metadata": {},
   "outputs": [
    {
     "data": {
      "text/plain": [
       "True"
      ]
     },
     "execution_count": 63,
     "metadata": {},
     "output_type": "execute_result"
    }
   ],
   "source": [
    "gray = cv2.cvtColor(input_img, cv2.COLOR_BGR2GRAY)\n",
    "edges = cv2.Canny(gray,100,200)\n",
    "ret,th2 = cv2.threshold(edges,100,255,cv2.THRESH_BINARY_INV)\n",
    "sketch_image = \"C:/Users/ASUS/Desktop/OurGAN/data/sketchmyfrock6.jpg\"  #path to save sketches images\n",
    "cv2.imwrite(sketch_image, th2)\n"
   ]
  },
  {
   "cell_type": "code",
   "execution_count": 64,
   "metadata": {},
   "outputs": [],
   "source": [
    "skg_path = sketch_image"
   ]
  },
  {
   "cell_type": "code",
   "execution_count": 65,
   "metadata": {},
   "outputs": [],
   "source": [
    "img = cv2.imread(skg_path)"
   ]
  },
  {
   "cell_type": "code",
   "execution_count": 66,
   "metadata": {},
   "outputs": [
    {
     "name": "stdout",
     "output_type": "stream",
     "text": [
      "(256, 256, 3)\n"
     ]
    }
   ],
   "source": [
    "print(img.shape)"
   ]
  },
  {
   "cell_type": "code",
   "execution_count": 67,
   "metadata": {
    "executionInfo": {
     "elapsed": 20,
     "status": "ok",
     "timestamp": 1641842477837,
     "user": {
      "displayName": "research arucsc",
      "photoUrl": "https://lh3.googleusercontent.com/a/default-user=s64",
      "userId": "12554019932748390963"
     },
     "user_tz": -330
    },
    "id": "xl4JV1FIQRRQ"
   },
   "outputs": [],
   "source": [
    " #convert the image to grayscale\n",
    "gray = cv2.cvtColor(img, cv2.COLOR_BGR2GRAY)\n",
    "#plt.imshow(gray)"
   ]
  },
  {
   "cell_type": "code",
   "execution_count": 68,
   "metadata": {
    "executionInfo": {
     "elapsed": 19,
     "status": "ok",
     "timestamp": 1641842477837,
     "user": {
      "displayName": "research arucsc",
      "photoUrl": "https://lh3.googleusercontent.com/a/default-user=s64",
      "userId": "12554019932748390963"
     },
     "user_tz": -330
    },
    "id": "j0fZmLopQXBP"
   },
   "outputs": [],
   "source": [
    "#find the edges and cacluated thresholders with contours\n",
    "thresh = cv2.threshold(gray, np.mean(gray), 255, cv2.THRESH_BINARY_INV+cv2.THRESH_OTSU)[1]\n",
    "#plt.imshow(thresh)"
   ]
  },
  {
   "cell_type": "code",
   "execution_count": 69,
   "metadata": {
    "executionInfo": {
     "elapsed": 19,
     "status": "ok",
     "timestamp": 1641842477837,
     "user": {
      "displayName": "research arucsc",
      "photoUrl": "https://lh3.googleusercontent.com/a/default-user=s64",
      "userId": "12554019932748390963"
     },
     "user_tz": -330
    },
    "id": "OJQq9kxoQkHH"
   },
   "outputs": [],
   "source": [
    "edges = cv2.dilate(cv2.Canny(thresh,0,255), None)\n",
    "#plt.imshow(edges)\n"
   ]
  },
  {
   "cell_type": "code",
   "execution_count": 70,
   "metadata": {
    "executionInfo": {
     "elapsed": 18,
     "status": "ok",
     "timestamp": 1641842477837,
     "user": {
      "displayName": "research arucsc",
      "photoUrl": "https://lh3.googleusercontent.com/a/default-user=s64",
      "userId": "12554019932748390963"
     },
     "user_tz": -330
    },
    "id": "94VdABMvRA0U"
   },
   "outputs": [],
   "source": [
    "masked = []\n",
    "segmented = []\n"
   ]
  },
  {
   "cell_type": "code",
   "execution_count": 71,
   "metadata": {
    "executionInfo": {
     "elapsed": 18,
     "status": "ok",
     "timestamp": 1641842477837,
     "user": {
      "displayName": "research arucsc",
      "photoUrl": "https://lh3.googleusercontent.com/a/default-user=s64",
      "userId": "12554019932748390963"
     },
     "user_tz": -330
    },
    "id": "ks1Doz9URC-Y"
   },
   "outputs": [],
   "source": [
    "cnt = sorted(cv2.findContours(edges, cv2.RETR_LIST, cv2.CHAIN_APPROX_SIMPLE)[-2], key=cv2.contourArea)[-1]"
   ]
  },
  {
   "cell_type": "code",
   "execution_count": 72,
   "metadata": {
    "executionInfo": {
     "elapsed": 19,
     "status": "ok",
     "timestamp": 1641842477838,
     "user": {
      "displayName": "research arucsc",
      "photoUrl": "https://lh3.googleusercontent.com/a/default-user=s64",
      "userId": "12554019932748390963"
     },
     "user_tz": -330
    },
    "id": "MrEANzm2RREX"
   },
   "outputs": [],
   "source": [
    "#create a mask using largest contour\n",
    "mask = np.zeros((256,256), np.uint8)\n",
    "masked.append(cv2.drawContours(mask, [cnt], -1, 255, -1))"
   ]
  },
  {
   "cell_type": "code",
   "execution_count": 73,
   "metadata": {
    "executionInfo": {
     "elapsed": 19,
     "status": "ok",
     "timestamp": 1641842477838,
     "user": {
      "displayName": "research arucsc",
      "photoUrl": "https://lh3.googleusercontent.com/a/default-user=s64",
      "userId": "12554019932748390963"
     },
     "user_tz": -330
    },
    "id": "Zyikpc4ySbg3"
   },
   "outputs": [],
   "source": [
    "dst = cv2.bitwise_and(img, img, mask=mask)"
   ]
  },
  {
   "cell_type": "code",
   "execution_count": 74,
   "metadata": {
    "executionInfo": {
     "elapsed": 20,
     "status": "ok",
     "timestamp": 1641842477839,
     "user": {
      "displayName": "research arucsc",
      "photoUrl": "https://lh3.googleusercontent.com/a/default-user=s64",
      "userId": "12554019932748390963"
     },
     "user_tz": -330
    },
    "id": "rxDCPPQTSEmx"
   },
   "outputs": [],
   "source": [
    "segmented = cv2.cvtColor(dst, cv2.COLOR_BGR2RGB)\n"
   ]
  },
  {
   "cell_type": "code",
   "execution_count": 75,
   "metadata": {
    "executionInfo": {
     "elapsed": 20,
     "status": "ok",
     "timestamp": 1641842477839,
     "user": {
      "displayName": "research arucsc",
      "photoUrl": "https://lh3.googleusercontent.com/a/default-user=s64",
      "userId": "12554019932748390963"
     },
     "user_tz": -330
    },
    "id": "6bE_x69gV2Xh"
   },
   "outputs": [],
   "source": [
    "#plt.imshow(mask)"
   ]
  },
  {
   "cell_type": "code",
   "execution_count": 76,
   "metadata": {
    "executionInfo": {
     "elapsed": 19,
     "status": "ok",
     "timestamp": 1641842477839,
     "user": {
      "displayName": "research arucsc",
      "photoUrl": "https://lh3.googleusercontent.com/a/default-user=s64",
      "userId": "12554019932748390963"
     },
     "user_tz": -330
    },
    "id": "dIXH-xqSVw8C"
   },
   "outputs": [],
   "source": [
    "#plt.imshow(segmented)"
   ]
  },
  {
   "cell_type": "code",
   "execution_count": 77,
   "metadata": {
    "colab": {
     "base_uri": "https://localhost:8080/"
    },
    "executionInfo": {
     "elapsed": 20,
     "status": "ok",
     "timestamp": 1641842477840,
     "user": {
      "displayName": "research arucsc",
      "photoUrl": "https://lh3.googleusercontent.com/a/default-user=s64",
      "userId": "12554019932748390963"
     },
     "user_tz": -330
    },
    "id": "nvUohQcuWrGy",
    "outputId": "881940ac-e64a-411f-9554-3dea3df60700"
   },
   "outputs": [
    {
     "data": {
      "text/plain": [
       "True"
      ]
     },
     "execution_count": 77,
     "metadata": {},
     "output_type": "execute_result"
    }
   ],
   "source": [
    "filename = \"C:/Users/ASUS/Desktop/OurGAN/data/seg.jpg\"\n",
    "cv2.imwrite(filename, mask)\n"
   ]
  },
  {
   "cell_type": "code",
   "execution_count": 78,
   "metadata": {
    "executionInfo": {
     "elapsed": 15,
     "status": "ok",
     "timestamp": 1641842477840,
     "user": {
      "displayName": "research arucsc",
      "photoUrl": "https://lh3.googleusercontent.com/a/default-user=s64",
      "userId": "12554019932748390963"
     },
     "user_tz": -330
    },
    "id": "CUsObUfZSm3I"
   },
   "outputs": [],
   "source": [
    "#skg_path = \"./dataset/test/shirt.jpg\"\n",
    "# seg_path = \"./dataset/test/seg.jpg\"\n",
    "seg_path = filename"
   ]
  },
  {
   "cell_type": "code",
   "execution_count": 79,
   "metadata": {
    "executionInfo": {
     "elapsed": 14,
     "status": "ok",
     "timestamp": 1641842477840,
     "user": {
      "displayName": "research arucsc",
      "photoUrl": "https://lh3.googleusercontent.com/a/default-user=s64",
      "userId": "12554019932748390963"
     },
     "user_tz": -330
    },
    "id": "mSoUdit7SpEZ"
   },
   "outputs": [],
   "source": [
    "# eroded_seg_path = \"./dataset/test/eroded_seg.jpg\"\n",
    "eroded_seg_path = filename"
   ]
  },
  {
   "cell_type": "code",
   "execution_count": 80,
   "metadata": {
    "executionInfo": {
     "elapsed": 15,
     "status": "ok",
     "timestamp": 1641842477841,
     "user": {
      "displayName": "research arucsc",
      "photoUrl": "https://lh3.googleusercontent.com/a/default-user=s64",
      "userId": "12554019932748390963"
     },
     "user_tz": -330
    },
    "id": "cllx28HWSqyY"
   },
   "outputs": [],
   "source": [
    "#Set the texture patch path here\n",
    "txt_path = \"C:/Users/ASUS/Desktop/OurGAN/data/sea.jpeg\""
   ]
  },
  {
   "cell_type": "code",
   "execution_count": 81,
   "metadata": {
    "colab": {
     "base_uri": "https://localhost:8080/"
    },
    "executionInfo": {
     "elapsed": 15,
     "status": "ok",
     "timestamp": 1641842477841,
     "user": {
      "displayName": "research arucsc",
      "photoUrl": "https://lh3.googleusercontent.com/a/default-user=s64",
      "userId": "12554019932748390963"
     },
     "user_tz": -330
    },
    "id": "qEzNPY3_QETo",
    "outputId": "4f088946-002e-467a-ee0b-bd9a3fcf2af5"
   },
   "outputs": [],
   "source": [
    "img = pil_loader(img_path)\n",
    "skg = pil_loader(skg_path)\n",
    "seg = pil_loader(seg_path)\n",
    "txt = pil_loader(txt_path)\n",
    "eroded_seg = pil_loader(eroded_seg_path)\n",
    "img, skg, seg, eroded_seg, txt = transform([img, skg, seg, eroded_seg, txt])\n",
    "img = img.unsqueeze(0)\n",
    "skg = skg.unsqueeze(0)\n",
    "txt = txt.unsqueeze(0)\n",
    "seg = seg.unsqueeze(0)\n",
    "eroded_seg = eroded_seg.unsqueeze(0)\n",
    "data = [img, skg, seg, eroded_seg, txt]"
   ]
  },
  {
   "cell_type": "markdown",
   "metadata": {
    "id": "282xXSBNnVlr"
   },
   "source": [
    "## Load Pretrained model"
   ]
  },
  {
   "cell_type": "code",
   "execution_count": 82,
   "metadata": {
    "executionInfo": {
     "elapsed": 13,
     "status": "ok",
     "timestamp": 1641842477841,
     "user": {
      "displayName": "research arucsc",
      "photoUrl": "https://lh3.googleusercontent.com/a/default-user=s64",
      "userId": "12554019932748390963"
     },
     "user_tz": -330
    },
    "id": "Nk6McWiunVlr"
   },
   "outputs": [],
   "source": [
    "def load_network(model, save_path):\n",
    "        \n",
    "    model_state = torch.load(save_path)\n",
    "    \n",
    "    if \"state_dict\" in model_state:\n",
    "        model.load_state_dict(model_state[\"state_dict\"])\n",
    "    else:\n",
    "        model.load_state_dict(model_state)\n",
    "\n",
    "        model_state = {\n",
    "            'state_dict': model.cpu().state_dict(),\n",
    "            'epoch': epoch,\n",
    "            'iteration': iteration,\n",
    "            'model': args.model,\n",
    "            'color_space': args.color_space,\n",
    "            'batch_size': args.batch_size,\n",
    "            'dataset': dataset,\n",
    "            'image_size': args.image_size\n",
    "        }\n",
    "    \n",
    "    model.cpu()\n"
   ]
  },
  {
   "cell_type": "code",
   "execution_count": 83,
   "metadata": {
    "colab": {
     "base_uri": "https://localhost:8080/"
    },
    "executionInfo": {
     "elapsed": 669,
     "status": "ok",
     "timestamp": 1641842478497,
     "user": {
      "displayName": "research arucsc",
      "photoUrl": "https://lh3.googleusercontent.com/a/default-user=s64",
      "userId": "12554019932748390963"
     },
     "user_tz": -330
    },
    "id": "KxjqNilPnVlr",
    "outputId": "51b043d6-51d8-45fa-d37a-40299de33410"
   },
   "outputs": [
    {
     "data": {
      "text/plain": [
       "TextureGAN(\n",
       "  (model): Sequential(\n",
       "    (main_model): MainModel(\n",
       "      (main_model): Sequential(\n",
       "        (conv_1): Conv2d(5, 32, kernel_size=(3, 3), stride=(1, 1), padding=(1, 1))\n",
       "        (batch_1): BatchNorm2d(32, eps=1e-05, momentum=0.1, affine=True, track_running_stats=True)\n",
       "        (norm_1): ReLU(inplace=True)\n",
       "        (res_block_1): ResidualBlock(\n",
       "          (conv1): Conv2d(32, 32, kernel_size=(3, 3), stride=(1, 1), padding=(1, 1))\n",
       "          (bn1): BatchNorm2d(32, eps=1e-05, momentum=0.1, affine=True, track_running_stats=True)\n",
       "          (relu): ReLU(inplace=True)\n",
       "          (conv2): Conv2d(32, 32, kernel_size=(3, 3), stride=(1, 1), padding=(1, 1))\n",
       "          (bn2): BatchNorm2d(32, eps=1e-05, momentum=0.1, affine=True, track_running_stats=True)\n",
       "        )\n",
       "        (conv_2): Conv2d(32, 64, kernel_size=(3, 3), stride=(2, 2), padding=(1, 1))\n",
       "        (batch_2): BatchNorm2d(64, eps=1e-05, momentum=0.1, affine=True, track_running_stats=True)\n",
       "        (norm_2): ReLU(inplace=True)\n",
       "        (res_block_2): ResidualBlock(\n",
       "          (conv1): Conv2d(64, 64, kernel_size=(3, 3), stride=(1, 1), padding=(1, 1))\n",
       "          (bn1): BatchNorm2d(64, eps=1e-05, momentum=0.1, affine=True, track_running_stats=True)\n",
       "          (relu): ReLU(inplace=True)\n",
       "          (conv2): Conv2d(64, 64, kernel_size=(3, 3), stride=(1, 1), padding=(1, 1))\n",
       "          (bn2): BatchNorm2d(64, eps=1e-05, momentum=0.1, affine=True, track_running_stats=True)\n",
       "        )\n",
       "        (conv_3): Conv2d(64, 128, kernel_size=(3, 3), stride=(2, 2), padding=(1, 1))\n",
       "        (batch_3): BatchNorm2d(128, eps=1e-05, momentum=0.1, affine=True, track_running_stats=True)\n",
       "        (norm_3): ReLU(inplace=True)\n",
       "        (res_block_3): ResidualBlock(\n",
       "          (conv1): Conv2d(128, 128, kernel_size=(3, 3), stride=(1, 1), padding=(1, 1))\n",
       "          (bn1): BatchNorm2d(128, eps=1e-05, momentum=0.1, affine=True, track_running_stats=True)\n",
       "          (relu): ReLU(inplace=True)\n",
       "          (conv2): Conv2d(128, 128, kernel_size=(3, 3), stride=(1, 1), padding=(1, 1))\n",
       "          (bn2): BatchNorm2d(128, eps=1e-05, momentum=0.1, affine=True, track_running_stats=True)\n",
       "        )\n",
       "        (conv_4): Conv2d(128, 256, kernel_size=(3, 3), stride=(2, 2), padding=(1, 1))\n",
       "        (batch_4): BatchNorm2d(256, eps=1e-05, momentum=0.1, affine=True, track_running_stats=True)\n",
       "        (norm_4): ReLU(inplace=True)\n",
       "        (res_block_4): ResidualBlock(\n",
       "          (conv1): Conv2d(256, 256, kernel_size=(3, 3), stride=(1, 1), padding=(1, 1))\n",
       "          (bn1): BatchNorm2d(256, eps=1e-05, momentum=0.1, affine=True, track_running_stats=True)\n",
       "          (relu): ReLU(inplace=True)\n",
       "          (conv2): Conv2d(256, 256, kernel_size=(3, 3), stride=(1, 1), padding=(1, 1))\n",
       "          (bn2): BatchNorm2d(256, eps=1e-05, momentum=0.1, affine=True, track_running_stats=True)\n",
       "        )\n",
       "        (res_block_5): ResidualBlock(\n",
       "          (conv1): Conv2d(256, 256, kernel_size=(3, 3), stride=(1, 1), padding=(1, 1))\n",
       "          (bn1): BatchNorm2d(256, eps=1e-05, momentum=0.1, affine=True, track_running_stats=True)\n",
       "          (relu): ReLU(inplace=True)\n",
       "          (conv2): Conv2d(256, 256, kernel_size=(3, 3), stride=(1, 1), padding=(1, 1))\n",
       "          (bn2): BatchNorm2d(256, eps=1e-05, momentum=0.1, affine=True, track_running_stats=True)\n",
       "        )\n",
       "        (res_block_6): ResidualBlock(\n",
       "          (conv1): Conv2d(256, 256, kernel_size=(3, 3), stride=(1, 1), padding=(1, 1))\n",
       "          (bn1): BatchNorm2d(256, eps=1e-05, momentum=0.1, affine=True, track_running_stats=True)\n",
       "          (relu): ReLU(inplace=True)\n",
       "          (conv2): Conv2d(256, 256, kernel_size=(3, 3), stride=(1, 1), padding=(1, 1))\n",
       "          (bn2): BatchNorm2d(256, eps=1e-05, momentum=0.1, affine=True, track_running_stats=True)\n",
       "        )\n",
       "        (res_block_7): ResidualBlock(\n",
       "          (conv1): Conv2d(256, 256, kernel_size=(3, 3), stride=(1, 1), padding=(1, 1))\n",
       "          (bn1): BatchNorm2d(256, eps=1e-05, momentum=0.1, affine=True, track_running_stats=True)\n",
       "          (relu): ReLU(inplace=True)\n",
       "          (conv2): Conv2d(256, 256, kernel_size=(3, 3), stride=(1, 1), padding=(1, 1))\n",
       "          (bn2): BatchNorm2d(256, eps=1e-05, momentum=0.1, affine=True, track_running_stats=True)\n",
       "        )\n",
       "        (res_block_8): ResidualBlock(\n",
       "          (conv1): Conv2d(256, 256, kernel_size=(3, 3), stride=(1, 1), padding=(1, 1))\n",
       "          (bn1): BatchNorm2d(256, eps=1e-05, momentum=0.1, affine=True, track_running_stats=True)\n",
       "          (relu): ReLU(inplace=True)\n",
       "          (conv2): Conv2d(256, 256, kernel_size=(3, 3), stride=(1, 1), padding=(1, 1))\n",
       "          (bn2): BatchNorm2d(256, eps=1e-05, momentum=0.1, affine=True, track_running_stats=True)\n",
       "        )\n",
       "        (upsampl_1): UpsamplingBlock(\n",
       "          (biup_block): Sequential(\n",
       "            (conv_1): Conv2d(256, 128, kernel_size=(3, 3), stride=(1, 1), padding=(1, 1))\n",
       "            (upsample_2): Upsample(scale_factor=2.0, mode=bilinear)\n",
       "          )\n",
       "        )\n",
       "        (batch_5): BatchNorm2d(128, eps=1e-05, momentum=0.1, affine=True, track_running_stats=True)\n",
       "        (norm_5): ReLU(inplace=True)\n",
       "        (res_block_9): ResidualBlock(\n",
       "          (conv1): Conv2d(128, 128, kernel_size=(3, 3), stride=(1, 1), padding=(1, 1))\n",
       "          (bn1): BatchNorm2d(128, eps=1e-05, momentum=0.1, affine=True, track_running_stats=True)\n",
       "          (relu): ReLU(inplace=True)\n",
       "          (conv2): Conv2d(128, 128, kernel_size=(3, 3), stride=(1, 1), padding=(1, 1))\n",
       "          (bn2): BatchNorm2d(128, eps=1e-05, momentum=0.1, affine=True, track_running_stats=True)\n",
       "        )\n",
       "        (res_block_10): ResidualBlock(\n",
       "          (conv1): Conv2d(128, 128, kernel_size=(3, 3), stride=(1, 1), padding=(1, 1))\n",
       "          (bn1): BatchNorm2d(128, eps=1e-05, momentum=0.1, affine=True, track_running_stats=True)\n",
       "          (relu): ReLU(inplace=True)\n",
       "          (conv2): Conv2d(128, 128, kernel_size=(3, 3), stride=(1, 1), padding=(1, 1))\n",
       "          (bn2): BatchNorm2d(128, eps=1e-05, momentum=0.1, affine=True, track_running_stats=True)\n",
       "        )\n",
       "        (upsampl_2): UpsamplingBlock(\n",
       "          (biup_block): Sequential(\n",
       "            (conv_1): Conv2d(128, 64, kernel_size=(3, 3), stride=(1, 1), padding=(1, 1))\n",
       "            (upsample_2): Upsample(scale_factor=2.0, mode=bilinear)\n",
       "          )\n",
       "        )\n",
       "        (batch_6): BatchNorm2d(64, eps=1e-05, momentum=0.1, affine=True, track_running_stats=True)\n",
       "        (norm_6): ReLU(inplace=True)\n",
       "        (res_block_11): ResidualBlock(\n",
       "          (conv1): Conv2d(64, 64, kernel_size=(3, 3), stride=(1, 1), padding=(1, 1))\n",
       "          (bn1): BatchNorm2d(64, eps=1e-05, momentum=0.1, affine=True, track_running_stats=True)\n",
       "          (relu): ReLU(inplace=True)\n",
       "          (conv2): Conv2d(64, 64, kernel_size=(3, 3), stride=(1, 1), padding=(1, 1))\n",
       "          (bn2): BatchNorm2d(64, eps=1e-05, momentum=0.1, affine=True, track_running_stats=True)\n",
       "        )\n",
       "        (res_block_12): ResidualBlock(\n",
       "          (conv1): Conv2d(64, 64, kernel_size=(3, 3), stride=(1, 1), padding=(1, 1))\n",
       "          (bn1): BatchNorm2d(64, eps=1e-05, momentum=0.1, affine=True, track_running_stats=True)\n",
       "          (relu): ReLU(inplace=True)\n",
       "          (conv2): Conv2d(64, 64, kernel_size=(3, 3), stride=(1, 1), padding=(1, 1))\n",
       "          (bn2): BatchNorm2d(64, eps=1e-05, momentum=0.1, affine=True, track_running_stats=True)\n",
       "        )\n",
       "        (upsampl_3): UpsamplingBlock(\n",
       "          (biup_block): Sequential(\n",
       "            (conv_1): Conv2d(64, 32, kernel_size=(3, 3), stride=(1, 1), padding=(1, 1))\n",
       "            (upsample_2): Upsample(scale_factor=2.0, mode=bilinear)\n",
       "          )\n",
       "        )\n",
       "        (batch_7): BatchNorm2d(32, eps=1e-05, momentum=0.1, affine=True, track_running_stats=True)\n",
       "        (norm_7): ReLU(inplace=True)\n",
       "        (res_block_13): ResidualBlock(\n",
       "          (conv1): Conv2d(32, 32, kernel_size=(3, 3), stride=(1, 1), padding=(1, 1))\n",
       "          (bn1): BatchNorm2d(32, eps=1e-05, momentum=0.1, affine=True, track_running_stats=True)\n",
       "          (relu): ReLU(inplace=True)\n",
       "          (conv2): Conv2d(32, 32, kernel_size=(3, 3), stride=(1, 1), padding=(1, 1))\n",
       "          (bn2): BatchNorm2d(32, eps=1e-05, momentum=0.1, affine=True, track_running_stats=True)\n",
       "        )\n",
       "        (batch_8): BatchNorm2d(32, eps=1e-05, momentum=0.1, affine=True, track_running_stats=True)\n",
       "      )\n",
       "    )\n",
       "    (conv_6): Conv2d(37, 64, kernel_size=(3, 3), stride=(1, 1), padding=(1, 1))\n",
       "    (res_block_14): ResidualBlock(\n",
       "      (conv1): Conv2d(64, 64, kernel_size=(3, 3), stride=(1, 1), padding=(1, 1))\n",
       "      (bn1): BatchNorm2d(64, eps=1e-05, momentum=0.1, affine=True, track_running_stats=True)\n",
       "      (relu): ReLU(inplace=True)\n",
       "      (conv2): Conv2d(64, 64, kernel_size=(3, 3), stride=(1, 1), padding=(1, 1))\n",
       "      (bn2): BatchNorm2d(64, eps=1e-05, momentum=0.1, affine=True, track_running_stats=True)\n",
       "    )\n",
       "    (res_block_15): ResidualBlock(\n",
       "      (conv1): Conv2d(64, 64, kernel_size=(3, 3), stride=(1, 1), padding=(1, 1))\n",
       "      (bn1): BatchNorm2d(64, eps=1e-05, momentum=0.1, affine=True, track_running_stats=True)\n",
       "      (relu): ReLU(inplace=True)\n",
       "      (conv2): Conv2d(64, 64, kernel_size=(3, 3), stride=(1, 1), padding=(1, 1))\n",
       "      (bn2): BatchNorm2d(64, eps=1e-05, momentum=0.1, affine=True, track_running_stats=True)\n",
       "    )\n",
       "    (conv_7): Conv2d(64, 3, kernel_size=(3, 3), stride=(1, 1), padding=(1, 1))\n",
       "    (batch_9): BatchNorm2d(3, eps=1e-05, momentum=0.1, affine=True, track_running_stats=True)\n",
       "  )\n",
       ")"
      ]
     },
     "execution_count": 83,
     "metadata": {},
     "output_type": "execute_result"
    }
   ],
   "source": [
    "from models import texturegan,discriminator\n",
    "\n",
    "#change to your location\n",
    "#model_location = '/hdd/2017IS013/researchGroup03/Pytorch-TextureGAN/resources/textureD_final_allloss_handbag_3300.pth'\n",
    "model_location = 'C:/Users/ASUS/Desktop/OurGAN/trained_model/final_cloth_finetune.pth'\n",
    "\n",
    "netG = texturegan.TextureGAN(5, 3, 32)\n",
    "load_network(netG, model_location)\n",
    "\n",
    "netG.eval()"
   ]
  },
  {
   "cell_type": "code",
   "execution_count": 84,
   "metadata": {
    "executionInfo": {
     "elapsed": 5,
     "status": "ok",
     "timestamp": 1641842478497,
     "user": {
      "displayName": "research arucsc",
      "photoUrl": "https://lh3.googleusercontent.com/a/default-user=s64",
      "userId": "12554019932748390963"
     },
     "user_tz": -330
    },
    "id": "2FWuA7dEnVlr"
   },
   "outputs": [],
   "source": [
    "#data = valLoader.__iter__().__next__()\n",
    "from utils import transforms as custom_transforms"
   ]
  },
  {
   "cell_type": "code",
   "execution_count": 85,
   "metadata": {
    "executionInfo": {
     "elapsed": 5,
     "status": "ok",
     "timestamp": 1641842478498,
     "user": {
      "displayName": "research arucsc",
      "photoUrl": "https://lh3.googleusercontent.com/a/default-user=s64",
      "userId": "12554019932748390963"
     },
     "user_tz": -330
    },
    "id": "XCjmvQcCnVls"
   },
   "outputs": [],
   "source": [
    "def get_input(val_loader,xcenter,ycenter,patch_size,num_patch):\n",
    "    img, skg, seg, eroded_seg, txt = val_loader\n",
    "    img = custom_transforms.normalize_lab(img)\n",
    "    skg = custom_transforms.normalize_lab(skg)\n",
    "    txt = custom_transforms.normalize_lab(txt)\n",
    "    seg = custom_transforms.normalize_seg(seg)\n",
    "    eroded_seg = custom_transforms.normalize_seg(eroded_seg)\n",
    "\n",
    "    bs, w, h = seg.size()\n",
    "\n",
    "    seg = seg.view(bs, 1, w, h)\n",
    "    seg = torch.cat((seg, seg, seg), 1)\n",
    "\n",
    "    eroded_seg = eroded_seg.view(bs, 1, w, h)\n",
    "    eroded_seg = torch.cat((eroded_seg, eroded_seg, eroded_seg), 1)\n",
    "\n",
    "    temp = torch.ones(seg.size()) * (1 - seg).float()\n",
    "    temp[:, 1, :, :] = 0  # torch.ones(seg[:,1,:,:].size())*(1-seg[:,1,:,:]).float()\n",
    "    temp[:, 2, :, :] = 0  # torch.ones(seg[:,2,:,:].size())*(1-seg[:,2,:,:]).float()\n",
    "\n",
    "    txt = txt.float() * seg.float() + temp\n",
    "\n",
    "    patchsize = args.local_texture_size\n",
    "    batch_size = bs\n",
    "    if xcenter < 0 or ycenter < 0:\n",
    "        inp, texture_loc = gen_input_rand(txt, skg, eroded_seg[:, 0, :, :] * 100,\n",
    "                                              patch_size, patch_size,\n",
    "                                              num_patch)\n",
    "    else:\n",
    "        inp, texture_loc = gen_input_exact(txt, skg, eroded_seg[:, 0, :, :] * 100,xcenter,ycenter,patch_size,1)\n",
    "        \n",
    "    return inp,texture_loc \n",
    "def get_inputv(inp):\n",
    "    input_stack = torch.FloatTensor().cpu()\n",
    "    input_stack.resize_as_(inp.float()).copy_(inp)\n",
    "    inputv = Variable(input_stack)\n",
    "    return inputv"
   ]
  },
  {
   "cell_type": "code",
   "execution_count": 86,
   "metadata": {
    "executionInfo": {
     "elapsed": 5,
     "status": "ok",
     "timestamp": 1641842478498,
     "user": {
      "displayName": "research arucsc",
      "photoUrl": "https://lh3.googleusercontent.com/a/default-user=s64",
      "userId": "12554019932748390963"
     },
     "user_tz": -330
    },
    "id": "Fs9Qw1qAnVls"
   },
   "outputs": [],
   "source": [
    "from train import gen_input, rand_between, gen_input_rand"
   ]
  },
  {
   "cell_type": "code",
   "execution_count": 87,
   "metadata": {
    "executionInfo": {
     "elapsed": 5,
     "status": "ok",
     "timestamp": 1641842478499,
     "user": {
      "displayName": "research arucsc",
      "photoUrl": "https://lh3.googleusercontent.com/a/default-user=s64",
      "userId": "12554019932748390963"
     },
     "user_tz": -330
    },
    "id": "15-AxRvynVls"
   },
   "outputs": [],
   "source": [
    "import matplotlib.pyplot as plt\n",
    "from ipywidgets import interact, interactive, fixed, interact_manual\n",
    "%matplotlib inline\n",
    "\n",
    "import warnings\n",
    "warnings.filterwarnings('ignore')\n",
    "\n",
    "import numpy as np"
   ]
  },
  {
   "cell_type": "code",
   "execution_count": 88,
   "metadata": {
    "colab": {
     "base_uri": "https://localhost:8080/",
     "height": 496
    },
    "executionInfo": {
     "elapsed": 1868,
     "status": "ok",
     "timestamp": 1641842538783,
     "user": {
      "displayName": "research arucsc",
      "photoUrl": "https://lh3.googleusercontent.com/a/default-user=s64",
      "userId": "12554019932748390963"
     },
     "user_tz": -330
    },
    "id": "AR7fMN5cnVls",
    "outputId": "ec345f67-a924-4f40-96c6-2a03141a5247"
   },
   "outputs": [
    {
     "data": {
      "text/plain": [
       "(-0.5, 151.5, 151.5, -0.5)"
      ]
     },
     "execution_count": 88,
     "metadata": {},
     "output_type": "execute_result"
    },
    {
     "data": {
      "image/png": "[encoded data removed]",
      "text/plain": [
       "<Figure size 432x288 with 1 Axes>"
      ]
     },
     "metadata": {
      "needs_background": "light"
     },
     "output_type": "display_data"
    },
    {
     "data": {
      "image/png": "[encoded data removed]",
      "text/plain": [
       "<Figure size 432x288 with 1 Axes>"
      ]
     },
     "metadata": {
      "needs_background": "light"
     },
     "output_type": "display_data"
    }
   ],
   "source": [
    "color_space = 'lab'\n",
    "\n",
    "#data = valLoader.__iter__().__next__()\n",
    "\n",
    "img, skg, seg, eroded_seg, txt = data\n",
    "\n",
    "img = custom_transforms.normalize_lab(img)\n",
    "skg = custom_transforms.normalize_lab(skg)\n",
    "txt = custom_transforms.normalize_lab(txt)\n",
    "seg = custom_transforms.normalize_seg(seg)\n",
    "eroded_seg = custom_transforms.normalize_seg(eroded_seg)\n",
    "inp,texture_loc = get_input(data,-1,-1,30,1)\n",
    "\n",
    "seg = seg!=0\n",
    "\n",
    "model = netG\n",
    "\n",
    "inpv = get_inputv(inp.cpu())\n",
    "output = model(inpv.cpu())\n",
    "\n",
    "out_img = vis_image(custom_transforms.denormalize_lab(output.data.double().cpu()),\n",
    "                                    color_space)\n",
    "inp_img = vis_patch(custom_transforms.denormalize_lab(txt.cpu()),\n",
    "                            custom_transforms.denormalize_lab(skg.cpu()),\n",
    "                            texture_loc,\n",
    "                            color_space)\n",
    "tar_img = vis_image(custom_transforms.denormalize_lab(img.cpu()),\n",
    "                        color_space)\n",
    "\n",
    "plt.figure()\n",
    "plt.imshow(np.transpose(inp_img[0],(1, 2, 0)))\n",
    "plt.axis('off')\n",
    "#plt.figure()  \n",
    "plt.figure()\n",
    "plt.imshow(np.transpose(out_img[0],(1, 2, 0)))\n",
    "plt.axis('off')"
   ]
  }
 ],
 "metadata": {
  "accelerator": "GPU",
  "colab": {
   "collapsed_sections": [],
   "name": "Test_script.ipynb",
   "provenance": []
  },
  "interpreter": {
   "hash": "a29ca612ad329add0edc755b2ec663fa9ae377fec4f5b4a910151e03d41156e4"
  },
  "kernelspec": {
   "display_name": "Python 3 (ipykernel)",
   "language": "python",
   "name": "python3"
  },
  "language_info": {
   "codemirror_mode": {
    "name": "ipython",
    "version": 3
   },
   "file_extension": ".py",
   "mimetype": "text/x-python",
   "name": "python",
   "nbconvert_exporter": "python",
   "pygments_lexer": "ipython3",
   "version": "3.9.7"
  }
 },
 "nbformat": 4,
 "nbformat_minor": 1
}
